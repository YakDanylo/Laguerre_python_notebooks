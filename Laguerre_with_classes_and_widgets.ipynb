{
 "cells": [
  {
   "cell_type": "code",
   "execution_count": 90,
   "metadata": {},
   "outputs": [],
   "source": [
    "import matplotlib.pyplot as plt\n",
    "import numpy as np\n",
    "import pandas as pd\n",
    "from scipy.integrate import quad\n",
    "import unittest\n",
    "import scipy.special as sp\n",
    "import ipywidgets as widgets\n",
    "from IPython.display import display, clear_output"
   ]
  },
  {
   "cell_type": "code",
   "execution_count": 91,
   "metadata": {},
   "outputs": [],
   "source": [
    "class Laguerre:\n",
    "    def __init__(self, beta=2, sigma=4, n=20, eps=0.001, t_max=100, t_points=1000):\n",
    "        self._beta = beta\n",
    "        self._sigma = sigma\n",
    "        self._n = n\n",
    "        self._eps = eps\n",
    "        self._t_max = t_max\n",
    "        self._t_points = t_points\n",
    "\n",
    "\n",
    "\n",
    "    @property\n",
    "    def beta(self):\n",
    "        return self._beta\n",
    "    \n",
    "    @beta.setter\n",
    "    def beta(self, value):\n",
    "        if not isinstance(value, (int, float)):\n",
    "            raise ValueError(\"Beta must be a number\")\n",
    "        if value <= 0:\n",
    "            raise ValueError(\"Beta must be a positive number\")\n",
    "        self._beta = value\n",
    "\n",
    "    @property\n",
    "    def sigma(self):\n",
    "        return self._sigma\n",
    "    \n",
    "    @sigma.setter\n",
    "    def sigma(self, value):\n",
    "        if not isinstance(value, (int, float)):\n",
    "            raise ValueError(\"Sigma must be a number\")\n",
    "        elif value <= 0:\n",
    "            raise ValueError(\"Sigma must be a positive number\")\n",
    "        else:\n",
    "            self._sigma = value\n",
    "\n",
    "    @property\n",
    "    def n(self):\n",
    "        return self._n\n",
    "    \n",
    "    @n.setter\n",
    "    def n(self, value):\n",
    "        if not isinstance(value, int):\n",
    "            raise ValueError(\"n must be an integer\")\n",
    "        if value < 0:\n",
    "            raise ValueError(\"n must be a non-negative integer\")\n",
    "        else:\n",
    "            self._n = value\n",
    "\n",
    "    @property\n",
    "    def eps(self):\n",
    "        return self._eps\n",
    "    \n",
    "    @eps.setter\n",
    "    def eps(self, value):\n",
    "        if not isinstance(value, (int, float)):\n",
    "            raise ValueError(\"Epsilon must be a number\")\n",
    "        if value <= 0:\n",
    "            raise ValueError(\"Epsilon must be a positive number\")\n",
    "        else:\n",
    "            self._eps = value\n",
    "\n",
    "    @property\n",
    "    def t_max(self):\n",
    "        return self._t_max\n",
    "    \n",
    "    @t_max.setter\n",
    "    def t_max(self, value):\n",
    "        if not isinstance(value, (int, float)):\n",
    "            raise ValueError(\"t_max must be a number\")\n",
    "        elif value <= 0:\n",
    "            raise ValueError(\"t_max must be a positive number\")\n",
    "        else:\n",
    "            self._t_max = value\n",
    "\n",
    "    @property\n",
    "    def t_points(self):\n",
    "        return self._t_points\n",
    "    \n",
    "    @t_points.setter\n",
    "    def t_points(self, value):\n",
    "        if not isinstance(value, int):\n",
    "            raise ValueError(\"t_points must be an integer\")\n",
    "        if value <= 0:\n",
    "            raise ValueError(\"t_points must be a positive integer\")\n",
    "        else:\n",
    "            self._t_points = value\n",
    "\n",
    "    def laguerre(self, t, n):\n",
    "        l0 = np.sqrt(self.sigma) * (np.exp(-self.beta * t / 2))\n",
    "        l1 = np.sqrt(self.sigma) * (1 - self.sigma * t) * (np.exp(-self.beta * t / 2))\n",
    "        if n == 0:\n",
    "            return l0\n",
    "        elif n == 1:\n",
    "            return l1\n",
    "        else:\n",
    "            lnext = (2 * 2 - 1 - t * self.sigma) / 2 * l1 - (2 - 1) / 2 * l0\n",
    "            for j in range(3, n + 1):\n",
    "                l0 = l1\n",
    "                l1 = lnext\n",
    "                lnext = (2 * j - 1 - t * self.sigma) / j * l1 - (j - 1) / j * l0 \n",
    "            return lnext\n",
    "\n",
    "    def experiment(self):\n",
    "        suitable_t = None\n",
    "        T = np.linspace(0, self.t_max, self.t_points)\n",
    "        N = range(0, self.n + 1)\n",
    "        for t in T:\n",
    "            is_t_suitable = all(abs(self.laguerre(t, n)) < self.eps for n in N)\n",
    "            if is_t_suitable and suitable_t is None:\n",
    "                suitable_t = t\n",
    "                break\n",
    "        return suitable_t, N\n",
    "\n",
    "    def transform_laguerre(self, f, n):\n",
    "        def func(t):\n",
    "            alpha = self.sigma-self.beta \n",
    "            \n",
    "            return f(t)*self.laguerre(t,n) * np.exp(-alpha*t)\n",
    "        t = self.experiment()[0]\n",
    "\n",
    "        return quad(func,0,t)[0]\n",
    "\n",
    "\n",
    "    def tabulate_transformation(self, f, N):\n",
    "        result = []\n",
    "        for n in range(N+1):\n",
    "            result.append(self.transform_laguerre(f, n))\n",
    "        return result\n",
    "\n",
    "\n",
    "    def tabulate_laguerre(self, T, num_points=100):\n",
    "        t_values = np.linspace(0, T, num_points)\n",
    "        laguerre_values = [self.laguerre(t, self.n) for t in t_values]\n",
    "        return t_values, laguerre_values\n",
    "    "
   ]
  },
  {
   "cell_type": "code",
   "execution_count": 92,
   "metadata": {},
   "outputs": [],
   "source": [
    "class LaguerreWidgets:\n",
    "    def __init__(self, beta=2, sigma=4, n=20, eps=0.001, t_max=100, t_points=1000):\n",
    "        self._beta = beta\n",
    "        self._sigma = sigma\n",
    "        self._n = n\n",
    "        self._eps = eps\n",
    "        self._t_max = t_max\n",
    "        self._t_points = t_points\n",
    "\n",
    "    @property\n",
    "    def beta(self):\n",
    "        return self._beta\n",
    "    \n",
    "    @beta.setter\n",
    "    def beta(self, value):\n",
    "        if not isinstance(value, (int, float)):\n",
    "            raise ValueError(\"Beta must be a number\")\n",
    "        if value <= 0:\n",
    "            raise ValueError(\"Beta must be a positive number\")\n",
    "        self._beta = value\n",
    "\n",
    "    @property\n",
    "    def sigma(self):\n",
    "        return self._sigma\n",
    "    \n",
    "    @sigma.setter\n",
    "    def sigma(self, value):\n",
    "        if not isinstance(value, (int, float)):\n",
    "            raise ValueError(\"Sigma must be a number\")\n",
    "        elif value <= 0:\n",
    "            raise ValueError(\"Sigma must be a positive number\")\n",
    "        else:\n",
    "            self._sigma = value\n",
    "\n",
    "    @property\n",
    "    def n(self):\n",
    "        return self._n\n",
    "    \n",
    "    @n.setter\n",
    "    def n(self, value):\n",
    "        if not isinstance(value, int):\n",
    "            raise ValueError(\"n must be an integer\")\n",
    "        if value < 0:\n",
    "            raise ValueError(\"n must be a non-negative integer\")\n",
    "        else:\n",
    "            self._n = value\n",
    "\n",
    "    @property\n",
    "    def eps(self):\n",
    "        return self._eps\n",
    "    \n",
    "    @eps.setter\n",
    "    def eps(self, value):\n",
    "        if not isinstance(value, (int, float)):\n",
    "            raise ValueError(\"Epsilon must be a number\")\n",
    "        if value <= 0:\n",
    "            raise ValueError(\"Epsilon must be a positive number\")\n",
    "        else:\n",
    "            self._eps = value\n",
    "\n",
    "    @property\n",
    "    def t_max(self):\n",
    "        return self._t_max\n",
    "    \n",
    "    @t_max.setter\n",
    "    def t_max(self, value):\n",
    "        if not isinstance(value, (int, float)):\n",
    "            raise ValueError(\"t_max must be a number\")\n",
    "        elif value <= 0:\n",
    "            raise ValueError(\"t_max must be a positive number\")\n",
    "        else:\n",
    "            self._t_max = value\n",
    "\n",
    "    @property\n",
    "    def t_points(self):\n",
    "        return self._t_points\n",
    "    \n",
    "    @t_points.setter\n",
    "    def t_points(self, value):\n",
    "        if not isinstance(value, int):\n",
    "            raise ValueError(\"t_points must be an integer\")\n",
    "        if value <= 0:\n",
    "            raise ValueError(\"t_points must be a positive integer\")\n",
    "        else:\n",
    "            self._t_points = value\n",
    "\n",
    "    def laguerre_widget(self):\n",
    "\n",
    "        n_slider = widgets.IntSlider(min=0, max=10, continuous_update=False, description='n')\n",
    "        t_slider = widgets.FloatSlider(min=0, max=1, step=0.01, continuous_update=False, description='t')\n",
    "\n",
    "\n",
    "        output = widgets.Output()\n",
    "        def update_result(change):\n",
    "            with output:\n",
    "                laguerre = Laguerre()\n",
    "                result = laguerre.laguerre(t_slider.value, n_slider.value)\n",
    "                print(f\"Результат для n={n_slider.value}, t={t_slider.value}: {result}\")\n",
    "\n",
    "\n",
    "        n_slider.observe(update_result, 'value')\n",
    "        t_slider.observe(update_result, 'value')\n",
    "\n",
    "        display(widgets.HBox([n_slider, t_slider]))\n",
    "        display(output)\n",
    "\n",
    "        l0 = np.sqrt(self.sigma) * (np.exp(-self.beta * t_slider.value / 2))\n",
    "        l1 = np.sqrt(self.sigma) * (1 - self.sigma * t_slider.value) * (np.exp(-self.beta * t_slider.value / 2))\n",
    "        if n_slider.value == 0:\n",
    "            return l0\n",
    "        elif n_slider.value == 1:\n",
    "            return l1\n",
    "        else:\n",
    "            lnext = (2 * 2 - 1 - t_slider.value * self.sigma) / 2 * l1 - (2 - 1) / 2 * l0\n",
    "            for j in range(3, n_slider.value + 1):\n",
    "                l0 = l1\n",
    "                l1 = lnext\n",
    "                lnext = (2 * j - 1 - t_slider.value * self.sigma) / j * l1 - (j - 1) / j * l0 \n",
    "            return lnext\n",
    "        \n",
    "\n",
    "    def experiment_widget(self):\n",
    "        n_slider_exp = widgets.IntSlider(min=1, max=50, continuous_update=False, description='n')\n",
    "        beta_slider_exp = widgets.FloatSlider(min=0, max=10, step=0.1, value=2, continuous_update=False, description='beta')\n",
    "        sigma_slider_exp = widgets.FloatSlider(min=0, max=10, step=0.1, value=4, continuous_update=False, description='sigma')\n",
    "        eps_value = 0.001\n",
    "        eps_slider_exp = widgets.FloatSlider(min=0.001, max=0.001, step=0.001, value=eps_value, continuous_update=False, description='eps', disabled=True)\n",
    "        t_max_slider_exp = widgets.IntSlider(min=10, max=200, step=10, value=100, continuous_update=False, description='t_max')\n",
    "        t_points_slider_exp = widgets.IntSlider(min=100, max=2000, step=100, value=1000, continuous_update=False, description='t_points')\n",
    "\n",
    "        output_exp = widgets.Output()\n",
    "\n",
    "        def update_experiment(change):\n",
    "            with output_exp:\n",
    "                laguerre = Laguerre()\n",
    "                clear_output(wait=True)\n",
    "                laguerre.n = n_slider_exp.value\n",
    "                laguerre.beta = beta_slider_exp.value\n",
    "                laguerre.sigma = sigma_slider_exp.value\n",
    "                laguerre.eps = eps_value\n",
    "                laguerre.t_max = t_max_slider_exp.value\n",
    "                laguerre.t_points = t_points_slider_exp.value\n",
    "\n",
    "                t, N = laguerre.experiment()\n",
    "                df = pd.DataFrame(laguerre.laguerre(t=t,n=n) for n in N)\n",
    "                display(df)\n",
    "\n",
    "        n_slider_exp.observe(update_experiment, 'value')\n",
    "        beta_slider_exp.observe(update_experiment, 'value')\n",
    "        sigma_slider_exp.observe(update_experiment, 'value')\n",
    "        t_max_slider_exp.observe(update_experiment, 'value')\n",
    "        t_points_slider_exp.observe(update_experiment, 'value')\n",
    "\n",
    "        display(widgets.VBox([n_slider_exp, beta_slider_exp, sigma_slider_exp, eps_slider_exp, t_max_slider_exp, t_points_slider_exp]))\n",
    "        display(output_exp)\n",
    "\n",
    "    def transform_laguerre(self, f, n):\n",
    "        def func(t):\n",
    "            alpha = self.sigma-self.beta \n",
    "            \n",
    "            return f(t)*self.laguerre(t,n) * np.exp(-alpha*t)\n",
    "        t = self.experiment()[0]\n",
    "\n",
    "        return quad(func,0,t)[0]\n",
    "\n",
    "\n",
    "    def tabulate_transformation(self, f, N):\n",
    "        result = []\n",
    "        for n in range(N+1):\n",
    "            result.append(self.transform_laguerre(f, n))\n",
    "        return result\n",
    "\n",
    "\n",
    "    def tabulate_laguerre(self, T, num_points=100):\n",
    "        t_values = np.linspace(0, T, num_points)\n",
    "        laguerre_values = [self.laguerre(t, self.n) for t in t_values]\n",
    "        return t_values, laguerre_values\n",
    "    \n",
    "    def tabulate_transformation_widget(self):\n",
    "        n_slider = widgets.IntSlider(min=0, max=10, continuous_update=False, description='n')\n",
    "        beta_slider = widgets.FloatSlider(min=0, max=10, step=0.1, value=2, continuous_update=False, description='beta')\n",
    "        sigma_slider = widgets.FloatSlider(min=0, max=10, step=0.1, value=4, continuous_update=False, description='sigma')\n",
    "        T_slider = widgets.FloatSlider(min=1, max=10, step=0.1, value=5, continuous_update=False, description='T')\n",
    "        n_point_slider = widgets.IntSlider(min=10, max=1000, step=10, value=100, continuous_update=False, description='num_points')\n",
    "\n",
    "        output_df = widgets.Output()\n",
    "\n",
    "        def update_df(change):\n",
    "            with output_df:\n",
    "                clear_output(wait=True)\n",
    "                laguerre = Laguerre()\n",
    "                laguerre.beta = beta_slider.value\n",
    "                laguerre.sigma = sigma_slider.value\n",
    "\n",
    "                t_values, laguerre_values = laguerre.tabulate_laguerre(T_slider.value,n_point_slider.value)\n",
    "                df = pd.DataFrame(laguerre_values, index=t_values, columns=['Laguerre'])\n",
    "                display(df)\n",
    "\n",
    "        n_slider.observe(update_df, 'value')\n",
    "        beta_slider.observe(update_df, 'value')\n",
    "        sigma_slider.observe(update_df, 'value')\n",
    "        T_slider.observe(update_df, 'value')\n",
    "        n_point_slider.observe(update_df, 'value')\n",
    "\n",
    "        display(widgets.VBox([n_slider, beta_slider, sigma_slider, T_slider, n_point_slider]))\n",
    "        display(output_df)"
   ]
  },
  {
   "cell_type": "code",
   "execution_count": 93,
   "metadata": {},
   "outputs": [],
   "source": [
    "class LaguerreInverse(Laguerre):\n",
    "    def __init__(self, beta=2, sigma=4, n=20, eps=0.001, t_max=100, t_points=1000):\n",
    "        super().__init__(beta, sigma, n, eps, t_max, t_points)\n",
    "\n",
    "    def inverse_laguerre(self, h, t):\n",
    "        result = 0\n",
    "        for i, coeff in enumerate(h):\n",
    "            result += coeff * super().laguerre(t, i)\n",
    "        return result\n",
    "\n",
    "    def tabulate_inverse(self, func,transformed_values,t1=0,t2=2*np.pi):\n",
    "        T = np.linspace(t1,t2,1000)\n",
    "        result =[]\n",
    "        correct_values = []\n",
    "        for t in T:\n",
    "            result.append(self.inverse_laguerre(transformed_values,t))\n",
    "            correct_values.append(func(t))\n",
    "        return result,correct_values\n",
    "    \n",
    "    def inverse_laguerre_widget(self, f, transformed_values):\n",
    "        def update_inverse_laguerre_plot(n):\n",
    "            transformed = self.tabulate_transformation(f, n)\n",
    "            reversed_transform_values, correct = self.tabulate_inverse(f, transformed)\n",
    "\n",
    "            fig, ax = plt.subplots(1, 2, figsize=(20, 5))\n",
    "\n",
    "            ax[0].plot(transformed, label=\"Пряме перетворення Лагерра(коефіцієнти)\")\n",
    "            ax[0].legend()\n",
    "\n",
    "            ax[1].plot(np.linspace(0, 2*np.pi, 1000), reversed_transform_values, label='Обернене перетворення Лагерра')\n",
    "            ax[1].plot(np.linspace(0, 2*np.pi, 1000), correct, label='Застосована функція', linestyle=\"--\")\n",
    "            ax[1].legend()\n",
    "\n",
    "            plt.show()\n",
    "\n",
    "\n",
    "        n_slider_inverse = widgets.IntSlider(min=1, max=20, continuous_update=False, description='n')\n",
    "\n",
    "        output_inverse = widgets.Output()\n",
    "\n",
    "        def update_inverse(change):\n",
    "            with output_inverse:\n",
    "                clear_output(wait=True)\n",
    "                n_value = n_slider_inverse.value\n",
    "                update_inverse_laguerre_plot(n_value)\n",
    "\n",
    "        n_slider_inverse.observe(update_inverse, 'value')\n",
    "\n",
    "        display(widgets.VBox([n_slider_inverse]))\n",
    "        display(output_inverse)\n",
    "    "
   ]
  },
  {
   "cell_type": "code",
   "execution_count": 94,
   "metadata": {},
   "outputs": [],
   "source": [
    "class LaguerrePlotsWidgets(Laguerre):\n",
    "    def __init__(self, beta=2, sigma=4, n=20, eps=0.001, t_max=100, t_points=1000):\n",
    "        super().__init__(beta, sigma, n, eps, t_max, t_points)\n",
    "\n",
    "\n",
    "    def make_plots(self, T, N):\n",
    "        fig, ax = plt.subplots(figsize=(10, 10))\n",
    "\n",
    "        for n in range(N + 1):\n",
    "            t_values = np.linspace(0, T, self.t_points)\n",
    "            laguerre_values = [super().laguerre(t, n) for t in t_values]\n",
    "            ax.plot(t_values, laguerre_values, label=f\"n={n}\")\n",
    "\n",
    "        ax.set_xlabel(\"t\")\n",
    "        ax.set_ylabel(\"l(t)\")\n",
    "        ax.set_title(\"Laguerre Functions\")\n",
    "        plt.grid()\n",
    "        ax.legend()\n",
    "        plt.show()\n",
    "\n",
    "    def make_plots_widget(self):\n",
    "        T_slider_plots = widgets.FloatSlider(min=1, max=10, step=0.1, value=4, continuous_update=False, description='T')\n",
    "        N_slider_plots = widgets.IntSlider(min=1, max=20, continuous_update=False, description='N')\n",
    "\n",
    "        output_plots = widgets.Output()\n",
    "\n",
    "        def update_plots(change):\n",
    "            with output_plots:\n",
    "\n",
    "                clear_output(wait=True)\n",
    "                T_value = T_slider_plots.value\n",
    "                N_value = N_slider_plots.value -1\n",
    "                self.make_plots(T_value, N_value)\n",
    "\n",
    "        T_slider_plots.observe(update_plots, 'value')\n",
    "        N_slider_plots.observe(update_plots, 'value')\n",
    "\n",
    "        display(widgets.VBox([T_slider_plots, N_slider_plots]))\n",
    "        display(output_plots)\n",
    "            "
   ]
  },
  {
   "cell_type": "code",
   "execution_count": 95,
   "metadata": {},
   "outputs": [
    {
     "data": {
      "application/vnd.jupyter.widget-view+json": {
       "model_id": "2624ac7d7e5840f4950fa557fc7db70e",
       "version_major": 2,
       "version_minor": 0
      },
      "text/plain": [
       "HBox(children=(IntSlider(value=0, continuous_update=False, description='n', max=10), FloatSlider(value=0.0, co…"
      ]
     },
     "metadata": {},
     "output_type": "display_data"
    },
    {
     "data": {
      "application/vnd.jupyter.widget-view+json": {
       "model_id": "0aaa6231f06049178c7f5fee0071c86d",
       "version_major": 2,
       "version_minor": 0
      },
      "text/plain": [
       "Output()"
      ]
     },
     "metadata": {},
     "output_type": "display_data"
    },
    {
     "data": {
      "text/plain": [
       "2.0"
      ]
     },
     "execution_count": 95,
     "metadata": {},
     "output_type": "execute_result"
    }
   ],
   "source": [
    "temp = LaguerreWidgets()\n",
    "\n",
    "temp.laguerre_widget()\n"
   ]
  },
  {
   "cell_type": "code",
   "execution_count": 96,
   "metadata": {},
   "outputs": [
    {
     "data": {
      "application/vnd.jupyter.widget-view+json": {
       "model_id": "bccbaf53c5044d49876310d8c1ef132b",
       "version_major": 2,
       "version_minor": 0
      },
      "text/plain": [
       "VBox(children=(IntSlider(value=1, continuous_update=False, description='n', max=50, min=1), FloatSlider(value=…"
      ]
     },
     "metadata": {},
     "output_type": "display_data"
    },
    {
     "data": {
      "application/vnd.jupyter.widget-view+json": {
       "model_id": "8e2154ec13f84ebe90b89b1f479d7fec",
       "version_major": 2,
       "version_minor": 0
      },
      "text/plain": [
       "Output()"
      ]
     },
     "metadata": {},
     "output_type": "display_data"
    }
   ],
   "source": [
    "temp1 = LaguerreWidgets()\n",
    "temp1.experiment_widget()"
   ]
  },
  {
   "cell_type": "code",
   "execution_count": 97,
   "metadata": {},
   "outputs": [
    {
     "data": {
      "application/vnd.jupyter.widget-view+json": {
       "model_id": "01ce03eff2d440cf90db4997c274d15b",
       "version_major": 2,
       "version_minor": 0
      },
      "text/plain": [
       "VBox(children=(IntSlider(value=0, continuous_update=False, description='n', max=10), FloatSlider(value=2.0, co…"
      ]
     },
     "metadata": {},
     "output_type": "display_data"
    },
    {
     "data": {
      "application/vnd.jupyter.widget-view+json": {
       "model_id": "9e6f8eb283e7426088afd4929c8d7c0b",
       "version_major": 2,
       "version_minor": 0
      },
      "text/plain": [
       "Output()"
      ]
     },
     "metadata": {},
     "output_type": "display_data"
    }
   ],
   "source": [
    "temp2 = LaguerreWidgets()\n",
    "\n",
    "temp2.tabulate_transformation_widget()\n"
   ]
  },
  {
   "cell_type": "code",
   "execution_count": 98,
   "metadata": {},
   "outputs": [
    {
     "data": {
      "application/vnd.jupyter.widget-view+json": {
       "model_id": "08de25bcf4e347caabb34f210ed9ce7d",
       "version_major": 2,
       "version_minor": 0
      },
      "text/plain": [
       "VBox(children=(FloatSlider(value=4.0, continuous_update=False, description='T', max=10.0, min=1.0), IntSlider(…"
      ]
     },
     "metadata": {},
     "output_type": "display_data"
    },
    {
     "data": {
      "application/vnd.jupyter.widget-view+json": {
       "model_id": "f6369d0280aa4bd28ca1ad7bc4f17e94",
       "version_major": 2,
       "version_minor": 0
      },
      "text/plain": [
       "Output()"
      ]
     },
     "metadata": {},
     "output_type": "display_data"
    }
   ],
   "source": [
    "plots_widget = LaguerrePlotsWidgets()\n",
    "plots_widget.make_plots_widget()"
   ]
  },
  {
   "cell_type": "code",
   "execution_count": 100,
   "metadata": {},
   "outputs": [
    {
     "data": {
      "application/vnd.jupyter.widget-view+json": {
       "model_id": "0bd8b4125be642d5a1ea94bf6597950a",
       "version_major": 2,
       "version_minor": 0
      },
      "text/plain": [
       "VBox(children=(IntSlider(value=1, continuous_update=False, description='n', max=20, min=1),))"
      ]
     },
     "metadata": {},
     "output_type": "display_data"
    },
    {
     "data": {
      "application/vnd.jupyter.widget-view+json": {
       "model_id": "0c1209062b0043c2b35eed766deaaae0",
       "version_major": 2,
       "version_minor": 0
      },
      "text/plain": [
       "Output()"
      ]
     },
     "metadata": {},
     "output_type": "display_data"
    }
   ],
   "source": [
    "def f(t):\n",
    "    if t >= 0 and t <= 2*np.pi:\n",
    "        return np.sin(t-np.pi/2) + 1\n",
    "    else: \n",
    "        return 0\n",
    "\n",
    "t = LaguerreInverse()\n",
    "t.inverse_laguerre_widget(f, [1 for i in range(21)])"
   ]
  }
 ],
 "metadata": {
  "kernelspec": {
   "display_name": "Python 3",
   "language": "python",
   "name": "python3"
  },
  "language_info": {
   "codemirror_mode": {
    "name": "ipython",
    "version": 3
   },
   "file_extension": ".py",
   "mimetype": "text/x-python",
   "name": "python",
   "nbconvert_exporter": "python",
   "pygments_lexer": "ipython3",
   "version": "3.12.0"
  }
 },
 "nbformat": 4,
 "nbformat_minor": 2
}
